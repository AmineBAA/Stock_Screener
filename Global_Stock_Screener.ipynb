{
  "nbformat": 4,
  "nbformat_minor": 0,
  "metadata": {
    "colab": {
      "provenance": []
    },
    "kernelspec": {
      "name": "python3",
      "display_name": "Python 3"
    },
    "language_info": {
      "name": "python"
    }
  },
  "cells": [
    {
      "cell_type": "code",
      "execution_count": null,
      "metadata": {
        "id": "Ko0UIv6T_nes"
      },
      "outputs": [],
      "source": [
        "import streamlit as st\n",
        "import yfinance as yf\n",
        "import pandas as pd\n",
        "\n",
        "# Title\n",
        "st.title(\"\\U0001F30D Global Stock Screener\")\n",
        "\n",
        "# Sidebar filters\n",
        "st.sidebar.header(\"Filter Stocks\")\n",
        "exchange = st.sidebar.selectbox(\"Select Exchange\", [\n",
        "    \"All\", \"NYSE\", \"NASDAQ\", \"TSE\", \"LSE\", \"BSE\", \"Euronext\"\n",
        "])\n",
        "sector = st.sidebar.selectbox(\"Select Sector\", [\n",
        "    \"All\", \"Technology\", \"Healthcare\", \"Finance\", \"Energy\", \"Consumer\"\n",
        "])\n",
        "price_range = st.sidebar.slider(\"Price Range\", 0, 1000, (10, 500))\n",
        "\n",
        "# Example stock list with sectors and exchanges\n",
        "stocks = {\n",
        "    \"AAPL\": {\"name\": \"Apple Inc.\", \"exchange\": \"NASDAQ\", \"price\": 190, \"sector\": \"Technology\"},\n",
        "    \"TSLA\": {\"name\": \"Tesla Inc.\", \"exchange\": \"NASDAQ\", \"price\": 250, \"sector\": \"Technology\"},\n",
        "    \"JNJ\": {\"name\": \"Johnson & Johnson\", \"exchange\": \"NYSE\", \"price\": 165, \"sector\": \"Healthcare\"},\n",
        "    \"BP.L\": {\"name\": \"BP plc\", \"exchange\": \"LSE\", \"price\": 30, \"sector\": \"Energy\"},\n",
        "    \"RELIANCE.BO\": {\"name\": \"Reliance Industries\", \"exchange\": \"BSE\", \"price\": 45, \"sector\": \"Energy\"},\n",
        "    \"AIR.PA\": {\"name\": \"Airbus SE\", \"exchange\": \"Euronext\", \"price\": 134, \"sector\": \"Consumer\"}\n",
        "}\n",
        "\n",
        "# Filter logic\n",
        "filtered = {\n",
        "    symbol: info for symbol, info in stocks.items()\n",
        "    if (exchange == \"All\" or info['exchange'] == exchange)\n",
        "    and (sector == \"All\" or info['sector'] == sector)\n",
        "    and price_range[0] <= info['price'] <= price_range[1]\n",
        "}\n",
        "\n",
        "# Display results\n",
        "st.subheader(\"\\U0001F4C8 Matching Stocks\")\n",
        "if filtered:\n",
        "    for symbol, info in filtered.items():\n",
        "        st.write(f\"**{info['name']}** ({symbol}) – Price: ${info['price']} – Sector: {info['sector']}\")\n",
        "        try:\n",
        "            data = yf.download(symbol, period=\"5d\", interval=\"1d\")\n",
        "            if not data.empty:\n",
        "                st.line_chart(data['Close'])\n",
        "        except:\n",
        "            st.write(\"Error fetching data for\", symbol)\n",
        "else:\n",
        "    st.info(\"No stocks match your criteria.\")\n",
        "\n",
        "# PayPal donation\n",
        "st.markdown(\"\"\"\n",
        "---\n",
        "### ❤️ Support this App\n",
        "If this tool helps you, consider [donating via PayPal](https://www.paypal.com/donate?hosted_button_id=YOUR_ID).\n",
        "\"\"\")\n"
      ]
    },
    {
      "cell_type": "code",
      "source": [],
      "metadata": {
        "id": "9P1jW52-_omL"
      },
      "execution_count": null,
      "outputs": []
    },
    {
      "cell_type": "code",
      "source": [],
      "metadata": {
        "id": "ytagLpBN_opq"
      },
      "execution_count": null,
      "outputs": []
    }
  ]
}